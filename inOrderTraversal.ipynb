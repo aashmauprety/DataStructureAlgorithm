{
  "nbformat": 4,
  "nbformat_minor": 0,
  "metadata": {
    "colab": {
      "name": "inOrderTraversal.ipynb",
      "provenance": [],
      "authorship_tag": "ABX9TyNoO1obLSgoNcW+dmtbXfrR",
      "include_colab_link": true
    },
    "kernelspec": {
      "name": "python3",
      "display_name": "Python 3"
    }
  },
  "cells": [
    {
      "cell_type": "markdown",
      "metadata": {
        "id": "view-in-github",
        "colab_type": "text"
      },
      "source": [
        "<a href=\"https://colab.research.google.com/github/aashmauprety/DataStructureAlgorithm/blob/main/inOrderTraversal.ipynb\" target=\"_parent\"><img src=\"https://colab.research.google.com/assets/colab-badge.svg\" alt=\"Open In Colab\"/></a>"
      ]
    },
    {
      "cell_type": "markdown",
      "metadata": {
        "id": "dLUj4z5BQwrY"
      },
      "source": [
        "In inorder tree traversal the traversal pattern is as:\r\n",
        "*Left, Root, Right*\r\n",
        "\r\n",
        "This can be solved by both recursive and non-recursive methods. \r\n",
        "Below is both the recursive and non-recursive solution.\r\n",
        "\r\n",
        "**Time complexity for this algorithm is O(N)**"
      ]
    },
    {
      "cell_type": "markdown",
      "metadata": {
        "id": "n4X7sesSXcfk"
      },
      "source": [
        "**NON-RECURSIVE SOLUTION**"
      ]
    },
    {
      "cell_type": "code",
      "metadata": {
        "id": "zNsxpapzRSpD"
      },
      "source": [
        "\r\n",
        "\r\n",
        "class Node: //class to create tree\r\n",
        "  def __init__(self, data):\r\n",
        "    self.data = data\r\n",
        "    self.left = None\r\n",
        "    self.right = None\r\n",
        "\r\n",
        "def inorder(root):\r\n",
        "    stack = [] //initialize empty stack\r\n",
        "    current = root // set the root of tree as current node\r\n",
        "    while True: // traverse  to the left of tree until left of current is empty and push them to stack.\r\n",
        "      if current is not None:\r\n",
        "        stack.append(current)\r\n",
        "        current = current.left\r\n",
        "      elif(stack): // pop the top of stack and set current as right of popped item. \r\n",
        "          current = stack.pop()\r\n",
        "          print(current.data)\r\n",
        "          current = current.right\r\n",
        "\r\n",
        "      else:\r\n",
        "        break\r\n",
        "\r\n",
        "root = Node(1)\r\n",
        "root.left = Node(2)\r\n",
        "root.right = Node(3)\r\n",
        "root.left.left = Node(4)\r\n",
        "root.left.right = Node(5)\r\n",
        "inorder(root)"
      ],
      "execution_count": null,
      "outputs": []
    },
    {
      "cell_type": "markdown",
      "metadata": {
        "id": "EJseRjkIXYLy"
      },
      "source": [
        "**RECURSIVE SOLUTION**"
      ]
    },
    {
      "cell_type": "code",
      "metadata": {
        "colab": {
          "base_uri": "https://localhost:8080/"
        },
        "id": "rmeJwAlNVfIT",
        "outputId": "f9b48a34-0ac9-4c1c-963a-a8e298c975f7"
      },
      "source": [
        "\r\n",
        "class Node:\r\n",
        "  def __init__(self, data):\r\n",
        "    self.data = data\r\n",
        "    self.left = None\r\n",
        "    self.right = None\r\n",
        "def inorder(root):\r\n",
        "  if root:\r\n",
        "    inorder(root.left)\r\n",
        "    print(root.data)\r\n",
        "    inorder(root.right)\r\n",
        "\r\n",
        "root = Node(1)\r\n",
        "root.left = Node(2)\r\n",
        "root.right = Node(3)\r\n",
        "root.left.left = Node(4)\r\n",
        "root.left.right = Node(5)\r\n",
        "\r\n",
        "inorder(root)\r\n",
        "\r\n"
      ],
      "execution_count": 5,
      "outputs": [
        {
          "output_type": "stream",
          "text": [
            "4\n",
            "2\n",
            "5\n",
            "1\n",
            "3\n"
          ],
          "name": "stdout"
        }
      ]
    }
  ]
}