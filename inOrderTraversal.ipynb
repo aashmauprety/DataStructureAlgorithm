{
  "nbformat": 4,
  "nbformat_minor": 0,
  "metadata": {
    "colab": {
      "name": "inOrderTraversal.ipynb",
      "provenance": [],
      "authorship_tag": "ABX9TyMPXV6bpETWXhsfBVRQYZS3",
      "include_colab_link": true
    },
    "kernelspec": {
      "name": "python3",
      "display_name": "Python 3"
    }
  },
  "cells": [
    {
      "cell_type": "markdown",
      "metadata": {
        "id": "view-in-github",
        "colab_type": "text"
      },
      "source": [
        "<a href=\"https://colab.research.google.com/github/aashmauprety/DataStructureAlgorithm/blob/main/inOrderTraversal.ipynb\" target=\"_parent\"><img src=\"https://colab.research.google.com/assets/colab-badge.svg\" alt=\"Open In Colab\"/></a>"
      ]
    },
    {
      "cell_type": "markdown",
      "metadata": {
        "id": "dLUj4z5BQwrY"
      },
      "source": [
        "In inorder tree traversal the traversal pattern is as:\r\n",
        "*Left, Root, Right*\r\n",
        "\r\n",
        "This can be solved by both recursive and non-recursive methods. \r\n",
        "Below is the non-recursive solution using Stack as data structure.\r\n",
        "\r\n",
        "**Time complexity for this algorithm is O(N^2)**"
      ]
    },
    {
      "cell_type": "code",
      "metadata": {
        "id": "zNsxpapzRSpD"
      },
      "source": [
        "class Node: //class to create tree\r\n",
        "  def __init__(self, data):\r\n",
        "    self.data = data\r\n",
        "    self.left = None\r\n",
        "    self.right = None\r\n",
        "\r\n",
        "def inorder(root):\r\n",
        "    stack = [] //initialize empty stack\r\n",
        "    current = root // set the root of tree as current node\r\n",
        "    while True: // traverse  to the left of tree until left of current is empty and push them to stack.\r\n",
        "      if current is not None:\r\n",
        "        stack.append(current)\r\n",
        "        current = current.left\r\n",
        "      elif(stack): // pop the top of stack and set current as right of popped item. \r\n",
        "          current = stack.pop()\r\n",
        "          print(current.data)\r\n",
        "          current = current.right\r\n",
        "\r\n",
        "      else:\r\n",
        "        break\r\n",
        "\r\n",
        "root = Node(1)\r\n",
        "root.left = Node(2)\r\n",
        "root.right = Node(3)\r\n",
        "root.left.left = Node(4)\r\n",
        "root.left.right = Node(5)\r\n",
        "inorder(root)"
      ],
      "execution_count": null,
      "outputs": []
    }
  ]
}