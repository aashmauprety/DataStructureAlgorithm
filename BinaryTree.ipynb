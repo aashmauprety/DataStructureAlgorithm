{
  "nbformat": 4,
  "nbformat_minor": 0,
  "metadata": {
    "colab": {
      "name": "BinaryTree.ipynb",
      "provenance": [],
      "authorship_tag": "ABX9TyOOO3DfKP7lPXA8rPmwY5hL",
      "include_colab_link": true
    },
    "kernelspec": {
      "name": "python3",
      "display_name": "Python 3"
    }
  },
  "cells": [
    {
      "cell_type": "markdown",
      "metadata": {
        "id": "view-in-github",
        "colab_type": "text"
      },
      "source": [
        "<a href=\"https://colab.research.google.com/github/aashmauprety/DataStructureAlgorithm/blob/main/BinaryTree.ipynb\" target=\"_parent\"><img src=\"https://colab.research.google.com/assets/colab-badge.svg\" alt=\"Open In Colab\"/></a>"
      ]
    },
    {
      "cell_type": "code",
      "metadata": {
        "colab": {
          "base_uri": "https://localhost:8080/"
        },
        "id": "YCNL8sMBW__p",
        "outputId": "4961abf6-322b-4cf6-e4ce-18f1393a5695"
      },
      "source": [
        "class Node:\r\n",
        "  def __init__(self, data):\r\n",
        "    self.data = data\r\n",
        "    self.left = None\r\n",
        "    self.right = None\r\n",
        "\r\n",
        "def buildTree(preorder, inorder, start, end):\r\n",
        "  if start > end:\r\n",
        "    return None\r\n",
        "  \r\n",
        "  tree = Node(preorder[buildTree.preindex])\r\n",
        "  \r\n",
        "  buildTree.preindex += 1\r\n",
        "  \r\n",
        "  if start == end:\r\n",
        "    return tree\r\n",
        "\r\n",
        "  inindex = search(inorder, start, end, tree.data)\r\n",
        "\r\n",
        "  tree.left = buildTree(preorder, inorder, start, inindex-1)\r\n",
        "  tree.right = buildTree(preorder, inorder, inindex+1, end)\r\n",
        "\r\n",
        "  return tree\r\n",
        "\r\n",
        "\r\n",
        "# function to search the index of root in inorderlist\r\n",
        "def search(arr, first, last, value):\r\n",
        "  for i in range(first, last+1):\r\n",
        "    if arr[i] == value:\r\n",
        "      return i\r\n",
        "\r\n",
        "#Function to print nodes in tree\r\n",
        "#postorder traversal\r\n",
        "def printTree(tree):\r\n",
        "  if tree is None:\r\n",
        "    return\r\n",
        "  printTree(tree.left)\r\n",
        "  \r\n",
        "  printTree(tree.right)\r\n",
        "  print(tree.data)\r\n",
        "\r\n",
        "  \r\n",
        "  \r\n",
        "\r\n",
        "\r\n",
        "preorder = [3, 9, 20, 15,7]\r\n",
        "inorder = [9, 3, 15, 20, 7]\r\n",
        "start = 0\r\n",
        "buildTree.preindex = 0\r\n",
        "end = len(inorder) - 1\r\n",
        "\r\n",
        "finalTree = buildTree(preorder, inorder, start, end)\r\n",
        "print(printTree(finalTree))\r\n"
      ],
      "execution_count": 2,
      "outputs": [
        {
          "output_type": "stream",
          "text": [
            "9\n",
            "15\n",
            "7\n",
            "20\n",
            "3\n",
            "None\n"
          ],
          "name": "stdout"
        }
      ]
    }
  ]
}